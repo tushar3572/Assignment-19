{
 "cells": [
  {
   "cell_type": "code",
   "execution_count": null,
   "id": "992230b8-cc15-42d4-8594-aec40a7c9b4a",
   "metadata": {},
   "outputs": [],
   "source": [
    "     #Answer : 1\n",
    "    \n",
    "To create a Bokeh plot using Python code, you can follow these general steps:\n",
    "\n",
    "1.Install Bokeh: If you haven't already, you can install Bokeh using pip.\n",
    "2.Import Bokeh: Import the necessary modules from the Bokeh library.\n",
    "3.Create a Figure: Create a Bokeh figure object that defines the layout and appearance of your plot. Specify attributes like the title, axis labels, and plot size.\n",
    "4.Add Data: Add data to your plot using various glyphs (shapes) provided by Bokeh, such as circles, squares, lines, or bars.\n",
    "Use methods like circle(), square(), line(), or vbar() to add data points or shapes to your figure.\n",
    "5.Add Glyphs: Glyphs are the visual elements that represent your data points on the plot.\n",
    "For a scatter plot, you can use the circle glyph to create scatter points.\n"
   ]
  },
  {
   "cell_type": "code",
   "execution_count": null,
   "id": "f418ea6e-04a8-4cc7-bf3c-13f6805f97ca",
   "metadata": {},
   "outputs": [],
   "source": [
    "     #Answer : 2\n",
    "    \n",
    "In Bokeh, glyphs are geometric shapes or markers that represent data points on a plot. \n",
    "Glyphs are used to visualize data in various ways, such as scatter plots, line plots, bar charts, and more.\n",
    "Bokeh provides a wide range of glyph types that you can use to customize the appearance of your data on the plot.\n",
    "\n",
    "To add glyphs to a Bokeh plot, you typically use a glyph function provided by Bokeh (e.g., circle, line, square, bar, etc.).\n",
    "Each glyph function allows you to specify the data source and customize various visual properties of the glyph, such as size, color, and line style.    "
   ]
  },
  {
   "cell_type": "code",
   "execution_count": 1,
   "id": "91ba54e5-be73-4f7b-8c5a-4deae86c4653",
   "metadata": {},
   "outputs": [],
   "source": [
    "from bokeh.plotting import figure, show\n",
    "import pandas as pd\n",
    "\n",
    "# Example data\n",
    "data = pd.DataFrame({'x': [1, 2, 3, 4, 5], 'y': [6, 7, 2, 4, 8]})\n",
    "\n",
    "# Create a Bokeh figure\n",
    "p = figure(title=\"Scatter Plot with Circles\", x_axis_label='X-axis', y_axis_label='Y-axis')\n",
    "\n",
    "# Add a circle glyph to the plot\n",
    "p.circle('x', 'y', source=data, size=10, color='blue', legend_label='Data Points')\n",
    "\n",
    "# Customize the plot appearance\n",
    "p.title.text_color = 'green'\n",
    "p.xaxis.major_label_text_color = 'red'\n",
    "p.yaxis.major_label_text_color = 'blue'\n",
    "\n",
    "# Show the plot\n",
    "show(p)\n"
   ]
  },
  {
   "cell_type": "code",
   "execution_count": null,
   "id": "ab150407-4ffe-4b34-9900-1bbb41ae99ce",
   "metadata": {},
   "outputs": [],
   "source": [
    "    #Answer : 3\n",
    "    \n",
    "Title and Plot Title:\n",
    "\n",
    "To set the title of the entire plot, you can use the title property of the figure.\n",
    "To customize the title's appearance (e.g., text color, font size, alignment), you can set properties like title.text_color, title.text_font_size, and title.align. \n",
    "\n",
    "p = figure(title=\"Customizing Plot Title\")\n",
    "p.title.text_color = \"blue\"\n",
    "p.title.text_font_size = \"20px\"\n",
    "p.title.align = \"center\"\n",
    "\n",
    "Axes:\n",
    "\n",
    "To customize the axis labels, you can set properties like xaxis.axis_label and yaxis.axis_label.\n",
    "To change the axis label text color, font size, or orientation, you can use properties like xaxis.axis_label_text_color, xaxis.axis_label_text_font_size, and xaxis.major_label_orientation\n",
    "\n",
    "p.xaxis.axis_label = \"Custom X-axis Label\"\n",
    "p.yaxis.axis_label = \"Custom Y-axis Label\"\n",
    "p.xaxis.axis_label_text_color = \"green\"\n",
    "p.yaxis.axis_label_text_font_size = \"16px\"\n",
    "p.xaxis.major_label_orientation = \"vertical\"\n",
    "\n",
    "\n",
    "Legend:\n",
    "\n",
    "To add a legend to your plot, you can use the legend keyword argument when adding glyphs to the plot, and specify a legend label for each glyph.\n",
    "You can customize the legend's appearance, such as its position, background color, border color, and font properties using the legend property of the figure.\n",
    "\n",
    "p.circle('x', 'y', source=data, size=10, color='blue', legend_label='Data Points')\n",
    "p.legend.title = \"Legend Title\"\n",
    "p.legend.label_text_font_size = \"12px\"\n",
    "p.legend.label_text_color = \"purple\"\n"
   ]
  },
  {
   "cell_type": "code",
   "execution_count": null,
   "id": "def4f8d5-8719-422e-82ce-7a48db39cbb6",
   "metadata": {},
   "outputs": [],
   "source": [
    "    #Answer : 4\n",
    "    \n",
    "A Bokeh server is a component of the Bokeh library that allows you to create interactive web applications with live, real-time updating plots and widgets. With a Bokeh server, you can build dynamic, data-driven dashboards, applications, and visualizations that respond to user interactions and automatically update as new data becomes available. Bokeh servers enable you to add interactivity to your Bokeh plots, making them a powerful tool for building data-driven web applications.\n",
    "\n",
    "Here are the key features and steps for creating interactive plots with Bokeh server:\n",
    "\n",
    "Key Features:\n",
    "\n",
    "Real-Time Updates: Bokeh server applications can update plots and widgets in real time as new data arrives or as users interact with the application.\n",
    "User Interactions: You can capture user interactions like clicks, selections, and input changes to trigger updates in the visualization.\n",
    "Custom Python Code: You can write Python code to define the server's behavior, allowing for complex data processing and interactions.\n",
    "Scalability: Bokeh servers can handle multiple clients simultaneously, making them suitable for deploying data-driven applications to a broad audience.\n",
    "Setting up a Bokeh Server Application:\n",
    "To create a Bokeh server application, you typically follow these steps:\n",
    "\n",
    "Import the necessary Bokeh modules.\n",
    "Define a curdoc() object, which represents the current document (i.e., the application).\n",
    "Create one or more Bokeh plots and widgets.\n",
    "Define callbacks that specify how the plots and widgets should respond to user interactions or data updates.\n",
    "Add these callbacks to your plots and widgets.\n",
    "Start the Bokeh server using the bokeh serve command or a Python script.\n"
   ]
  },
  {
   "cell_type": "code",
   "execution_count": null,
   "id": "5d91ce4a-28da-4996-829d-300853f751c2",
   "metadata": {},
   "outputs": [],
   "source": [
    "from bokeh.plotting import figure, curdoc\n",
    "from bokeh.models import ColumnDataSource\n",
    "from bokeh.layouts import column\n",
    "from bokeh.models.widgets import Button\n",
    "\n",
    "# Create a ColumnDataSource to hold data for the scatter plot\n",
    "source = ColumnDataSource(data={'x': [], 'y': []})\n",
    "\n",
    "# Create a scatter plot\n",
    "plot = figure(title=\"Real-Time Scatter Plot\")\n",
    "plot.circle('x', 'y', source=source)\n",
    "\n",
    "# Create a button widget\n",
    "button = Button(label=\"Update Data\")\n",
    "\n",
    "# Define a callback function for the button\n",
    "def update_data():\n",
    "    new_data = {'x': [1, 2, 3, 4, 5], 'y': [6, 7, 2, 4, 8]}\n",
    "    source.data = new_data\n",
    "\n",
    "button.on_click(update_data)\n",
    "\n",
    "# Arrange the plot and button in a layout\n",
    "layout = column(plot, button)\n",
    "\n",
    "# Add the layout to the current document\n",
    "curdoc().add_root(layout)\n"
   ]
  },
  {
   "cell_type": "code",
   "execution_count": null,
   "id": "0c3fc6c2-4f07-46d8-8a3b-0fe87c186ec6",
   "metadata": {},
   "outputs": [],
   "source": [
    "     #Answerv : 5\n",
    "    \n",
    "Embedding a Bokeh plot into a web page or dashboard using Flask or Django involves integrating Bokeh's interactive plots into your web framework's templates. Both Flask and Django can work well with Bokeh to create dynamic and interactive data visualizations. \n",
    "Here's how you can do it in both frameworks:  \n",
    "\n",
    "Using Flask:\n",
    "\n",
    "Install Bokeh if you haven't already"
   ]
  },
  {
   "cell_type": "code",
   "execution_count": 2,
   "id": "8cba6352-3010-449a-9094-bac81e760df9",
   "metadata": {},
   "outputs": [
    {
     "name": "stdout",
     "output_type": "stream",
     "text": [
      "Requirement already satisfied: bokeh in /opt/conda/lib/python3.10/site-packages (3.0.3)\n",
      "Requirement already satisfied: Jinja2>=2.9 in /opt/conda/lib/python3.10/site-packages (from bokeh) (3.1.2)\n",
      "Requirement already satisfied: xyzservices>=2021.09.1 in /opt/conda/lib/python3.10/site-packages (from bokeh) (2022.9.0)\n",
      "Requirement already satisfied: PyYAML>=3.10 in /opt/conda/lib/python3.10/site-packages (from bokeh) (6.0)\n",
      "Requirement already satisfied: contourpy>=1 in /opt/conda/lib/python3.10/site-packages (from bokeh) (1.0.6)\n",
      "Requirement already satisfied: pandas>=1.2 in /opt/conda/lib/python3.10/site-packages (from bokeh) (1.5.2)\n",
      "Requirement already satisfied: numpy>=1.11.3 in /opt/conda/lib/python3.10/site-packages (from bokeh) (1.23.5)\n",
      "Requirement already satisfied: packaging>=16.8 in /opt/conda/lib/python3.10/site-packages (from bokeh) (22.0)\n",
      "Requirement already satisfied: tornado>=5.1 in /opt/conda/lib/python3.10/site-packages (from bokeh) (6.1)\n",
      "Requirement already satisfied: pillow>=7.1.0 in /opt/conda/lib/python3.10/site-packages (from bokeh) (9.2.0)\n",
      "Requirement already satisfied: MarkupSafe>=2.0 in /opt/conda/lib/python3.10/site-packages (from Jinja2>=2.9->bokeh) (2.1.1)\n",
      "Requirement already satisfied: python-dateutil>=2.8.1 in /opt/conda/lib/python3.10/site-packages (from pandas>=1.2->bokeh) (2.8.2)\n",
      "Requirement already satisfied: pytz>=2020.1 in /opt/conda/lib/python3.10/site-packages (from pandas>=1.2->bokeh) (2022.6)\n",
      "Requirement already satisfied: six>=1.5 in /opt/conda/lib/python3.10/site-packages (from python-dateutil>=2.8.1->pandas>=1.2->bokeh) (1.16.0)\n",
      "Note: you may need to restart the kernel to use updated packages.\n"
     ]
    }
   ],
   "source": [
    "pip install bokeh\n"
   ]
  },
  {
   "cell_type": "code",
   "execution_count": null,
   "id": "458525dc-b4f9-4602-953e-a89b13fc3770",
   "metadata": {},
   "outputs": [],
   "source": [
    "#Create a Flask Application:\n",
    "\n",
    "from flask import Flask, render_template\n",
    "from bokeh.plotting import figure\n",
    "from bokeh.embed import components\n",
    "\n",
    "app = Flask(__name__)\n",
    "\n",
    "@app.route('/')\n",
    "def index():\n",
    "    # Create a Bokeh plot\n",
    "    plot = figure(title=\"Simple Bokeh Plot\", x_axis_label='X-axis', y_axis_label='Y-axis')\n",
    "    plot.circle([1, 2, 3, 4, 5], [6, 7, 2, 4, 8], size=10, color='blue')\n",
    "\n",
    "    # Embed the plot as HTML components\n",
    "    script, div = components(plot)\n",
    "\n",
    "    return render_template('index.html', script=script, div=div)\n",
    "\n",
    "if __name__ == '__main__':\n",
    "    app.run(debug=True)"
   ]
  },
  {
   "cell_type": "code",
   "execution_count": null,
   "id": "3d01f916-333a-40cc-89d7-ae706e8c85fc",
   "metadata": {},
   "outputs": [],
   "source": [
    "Using Django:\n",
    "\n",
    "Install Bokeh if you haven't already:"
   ]
  },
  {
   "cell_type": "code",
   "execution_count": null,
   "id": "5aa77fd8-5459-4d04-9659-c4a283f9dc63",
   "metadata": {},
   "outputs": [],
   "source": [
    "pip install bokeh"
   ]
  },
  {
   "cell_type": "code",
   "execution_count": null,
   "id": "9dc191cc-f1b7-4ab5-a7e6-baa2f39b830b",
   "metadata": {},
   "outputs": [],
   "source": [
    "Create a Django Project and App:\n",
    "\n",
    "django-admin startproject myproject\n",
    "cd myproject\n",
    "python manage.py startapp myapp"
   ]
  },
  {
   "cell_type": "code",
   "execution_count": null,
   "id": "a445dc1a-5f8a-4151-968e-c7a9cdfa2623",
   "metadata": {},
   "outputs": [],
   "source": [
    "Update the Django App Views (views.py):"
   ]
  },
  {
   "cell_type": "code",
   "execution_count": null,
   "id": "098aee4d-a13c-4797-8682-edd0cdae81df",
   "metadata": {},
   "outputs": [],
   "source": [
    "from django.shortcuts import render\n",
    "from bokeh.plotting import figure\n",
    "from bokeh.embed import components\n",
    "\n",
    "def bokeh_plot(request):\n",
    "    # Create a Bokeh plot\n",
    "    plot = figure(title=\"Simple Bokeh Plot\", x_axis_label='X-axis', y_axis_label='Y-axis')\n",
    "    plot.circle([1, 2, 3, 4, 5], [6, 7, 2, 4, 8], size=10, color='blue')\n",
    "\n",
    "    # Embed the plot as HTML components\n",
    "    script, div = components(plot)\n",
    "\n",
    "    return render(request, 'bokeh_plot.html', {'script': script, 'div': div})\n"
   ]
  }
 ],
 "metadata": {
  "kernelspec": {
   "display_name": "Python 3 (ipykernel)",
   "language": "python",
   "name": "python3"
  },
  "language_info": {
   "codemirror_mode": {
    "name": "ipython",
    "version": 3
   },
   "file_extension": ".py",
   "mimetype": "text/x-python",
   "name": "python",
   "nbconvert_exporter": "python",
   "pygments_lexer": "ipython3",
   "version": "3.10.8"
  }
 },
 "nbformat": 4,
 "nbformat_minor": 5
}
